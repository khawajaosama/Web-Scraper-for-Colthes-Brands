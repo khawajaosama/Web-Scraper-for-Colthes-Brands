{
 "cells": [
  {
   "cell_type": "code",
   "execution_count": 1,
   "metadata": {},
   "outputs": [],
   "source": [
    "import requests\n",
    "from bs4 import BeautifulSoup"
   ]
  },
  {
   "cell_type": "code",
   "execution_count": 2,
   "metadata": {},
   "outputs": [],
   "source": [
    "url_1 = 'https://www.junaidjamshed.com/mens.html'"
   ]
  },
  {
   "cell_type": "code",
   "execution_count": 8,
   "metadata": {},
   "outputs": [],
   "source": [
    "for page in range(1,8):\n",
    "    response =  requests.get(f'https://www.junaidjamshed.com/mens.html?p={page}')\n",
    "    links=[]\n",
    "    soup = BeautifulSoup(response.text,'html.parser')\n",
    "\n",
    "    for link in soup.find_all('a',onclick=True,href=True):\n",
    "        links.append(link.get('href'))\n",
    "        product_title = link.find_all('a', {'class':'product-item-link'})"
   ]
  },
  {
   "cell_type": "code",
   "execution_count": 30,
   "metadata": {},
   "outputs": [
    {
     "data": {
      "text/plain": [
       "<a class=\"product photo product-item-photo\" href=\"https://www.junaidjamshed.com/jjfw-jpc-11214-s19-ak-pln.html\" onclick=\"window.dataLayer.push({&quot;event&quot;:&quot;productClick&quot;,&quot;eventLabel&quot;:&quot;JJFW-JPC-11214\\/S19-AK-PLN&quot;,&quot;ecommerce&quot;:{&quot;click&quot;:{&quot;actionField&quot;:{&quot;list&quot;:&quot;Men&quot;},&quot;products&quot;:[{&quot;name&quot;:&quot;JJFW-JPC-11214\\/S19-AK-PLN&quot;,&quot;id&quot;:&quot;JJ-FM088938&quot;,&quot;price&quot;:&quot;0.00&quot;,&quot;category&quot;:&quot;Men&quot;,&quot;position&quot;:15,&quot;brand&quot;:&quot;&quot;}]}}, 'eventCallback': function() { document.location = 'https://www.junaidjamshed.com/jjfw-jpc-11214-s19-ak-pln.html' }});\" tabindex=\"-1\">\n",
       "<img alt=\"JJFW-JPC-11214/S19-AK-PLN\" class=\"photo image\" height=\"800\" src=\"https://www.junaidjamshed.com/media/catalog/product/cache/small_image/600x800/beff4985b56e3afdbeabfc89641a4582/j/p/jpc-11214_1_.jpg\" width=\"600\"/>\n",
       "</a>"
      ]
     },
     "execution_count": 30,
     "metadata": {},
     "output_type": "execute_result"
    }
   ],
   "source": [
    "link.find_all('a', {'class':'product-item-link'})"
   ]
  },
  {
   "cell_type": "code",
   "execution_count": 70,
   "metadata": {},
   "outputs": [
    {
     "data": {
      "text/plain": [
       "'Men Peshawari Chappal'"
      ]
     },
     "execution_count": 70,
     "metadata": {},
     "output_type": "execute_result"
    }
   ],
   "source": [
    "'''response =  requests.get('https://www.junaidjamshed.com/jjfw-jpc-11202-s18-htk-txt.html')\n",
    "soup = BeautifulSoup(response.text,'html.parser')\n",
    "soup.find_all('td')[-1].text'''"
   ]
  },
  {
   "cell_type": "code",
   "execution_count": 75,
   "metadata": {},
   "outputs": [
    {
     "data": {
      "text/plain": [
       "[<a class=\"product-item-link\" href=\"https://www.junaidjamshed.com/jjms-superior-1454-jj6186.html\">\n",
       " \t\t\t\t\t\t\t\t\tJJMS-SUPERIOR-1454/JJ6186\t\t\t\t\t\t\t\t</a>,\n",
       " <a class=\"product-item-link\" href=\"https://www.junaidjamshed.com/jjfw-jpc-11172-s19-al-txt.html\">\n",
       " \t\t\t\t\t\t\t\t\tJJFW-JPC-11172/S19-AL-TXT\t\t\t\t\t\t\t\t</a>,\n",
       " <a class=\"product-item-link\" href=\"https://www.junaidjamshed.com/jjfw-jpc-11247-s19-zu-txt.html\">\n",
       " \t\t\t\t\t\t\t\t\tJJFW-JPC-11247/S19-ZU-TXT\t\t\t\t\t\t\t\t</a>,\n",
       " <a class=\"product-item-link\" href=\"https://www.junaidjamshed.com/jjfw-jpc-11240-s19-sa-pln.html\">\n",
       " \t\t\t\t\t\t\t\t\tJJFW-JPC-11240/S19-SA-PLN\t\t\t\t\t\t\t\t</a>,\n",
       " <a class=\"product-item-link\" href=\"https://www.junaidjamshed.com/beard-oil-set-j-exclusive.html\">\n",
       " \t\t\t\t\t\t\t\t\tBeard Oil Set (Exclusive)\t\t\t\t\t\t\t\t</a>,\n",
       " <a class=\"product-item-link\" href=\"https://www.junaidjamshed.com/beard-oil-set-janan.html\">\n",
       " \t\t\t\t\t\t\t\t\tBeard Oil Set (Janan)\t\t\t\t\t\t\t\t</a>,\n",
       " <a class=\"product-item-link\" href=\"https://www.junaidjamshed.com/beard-oil-set-oriental.html\">\n",
       " \t\t\t\t\t\t\t\t\tBeard Oil Set (Oriental)\t\t\t\t\t\t\t\t</a>,\n",
       " <a class=\"product-item-link\" href=\"https://www.junaidjamshed.com/jjfw-jpc-102-s18-jj5928.html\">\n",
       " \t\t\t\t\t\t\t\t\tJJFW-JPC-102/S18/JJ5928\t\t\t\t\t\t\t\t</a>,\n",
       " <a class=\"product-item-link\" href=\"https://www.junaidjamshed.com/jjfw-jpc-11008-r1-s18-htk-txt.html\">\n",
       " \t\t\t\t\t\t\t\t\tJJFW-JPC-11008-R1/S18-HTK-TXT\t\t\t\t\t\t\t\t</a>,\n",
       " <a class=\"product-item-link\" href=\"https://www.junaidjamshed.com/jjfw-jpc-11202-s18-htk-txt.html\">\n",
       " \t\t\t\t\t\t\t\t\tJJFW-JPC-11202/S18-HTK-TXT\t\t\t\t\t\t\t\t</a>,\n",
       " <a class=\"product-item-link\" href=\"https://www.junaidjamshed.com/jjfw-jpc-11214-s19-ak-pln.html\">\n",
       " \t\t\t\t\t\t\t\t\tJJFW-JPC-11214/S19-AK-PLN\t\t\t\t\t\t\t\t</a>,\n",
       " <a class=\"product-item-link\" href=\"https://www.junaidjamshed.com/jjfw-jpc-095-s18-jj5945.html\">\n",
       " \t\t\t\t\t\t\t\t\tJJFW-JPC-095/S18/JJ5945\t\t\t\t\t\t\t\t</a>,\n",
       " <a class=\"product-item-link\" href=\"https://www.junaidjamshed.com/catalog/product/view/id/77254/s/jjmk-classy-1390-jj6299/category/3/\">\n",
       " \t\t\t\t\t\t\t\t\tJJMK-CLASSY-1390/JJ6299 (Deep Red)\t\t\t\t\t\t\t\t</a>,\n",
       " <a class=\"product-item-link\" href=\"https://www.junaidjamshed.com/jjmk-classy-1375-jms12185.html\">\n",
       " \t\t\t\t\t\t\t\t\tJJMK-CLASSY-1375/JMS12185\t\t\t\t\t\t\t\t</a>,\n",
       " <a class=\"product-item-link\" href=\"https://www.junaidjamshed.com/jjks-s-36449-s19-jj6304.html\">\n",
       " \t\t\t\t\t\t\t\t\tJJKS-S-36449/S19/JJ6304\t\t\t\t\t\t\t\t</a>]"
      ]
     },
     "execution_count": 75,
     "metadata": {},
     "output_type": "execute_result"
    }
   ],
   "source": [
    "response =  requests.get('https://www.junaidjamshed.com/mens.html')\n",
    "soup = BeautifulSoup(response.text,'html.parser')\n",
    "soup.find_all('a', {'class':'product-item-link'})[0].text.strip()"
   ]
  },
  {
   "cell_type": "code",
   "execution_count": 44,
   "metadata": {
    "scrolled": true
   },
   "outputs": [
    {
     "data": {
      "text/plain": [
       "[<img alt=\"JJMS-ELITE-1468/JJ6128\" class=\"photo image\" height=\"800\" src=\"https://www.junaidjamshed.com/media/catalog/product/cache/small_image/600x800/beff4985b56e3afdbeabfc89641a4582/e/l/elite-1468_dull_grey.jpg\" width=\"600\"/>,\n",
       " <img alt=\"JJMS-SUPERIOR-1454/JJ6186\" class=\"photo image\" height=\"800\" src=\"https://www.junaidjamshed.com/media/catalog/product/cache/small_image/600x800/beff4985b56e3afdbeabfc89641a4582/1/4/1454_smoke_1.jpg\" width=\"600\"/>,\n",
       " <img alt=\"JJMS-SUPERIOR-1454/JJ6186\" class=\"photo image\" height=\"800\" src=\"https://www.junaidjamshed.com/media/catalog/product/cache/small_image/600x800/beff4985b56e3afdbeabfc89641a4582/1/4/1454_light_green.jpg\" width=\"600\"/>,\n",
       " <img alt=\"JJMS-SUPERIOR-1439/JJ6294\" class=\"photo image\" height=\"800\" src=\"https://www.junaidjamshed.com/media/catalog/product/cache/small_image/600x800/beff4985b56e3afdbeabfc89641a4582/1/4/1439_ivory.jpg\" width=\"600\"/>,\n",
       " <img alt=\"JJMS-SUPERIOR-1439/JJ6294\" class=\"photo image\" height=\"800\" src=\"https://www.junaidjamshed.com/media/catalog/product/cache/small_image/600x800/beff4985b56e3afdbeabfc89641a4582/1/4/1439_beige.jpg\" width=\"600\"/>,\n",
       " <img alt=\"JJFW-JPC-11172/S19-AL-TXT\" class=\"photo image\" height=\"800\" src=\"https://www.junaidjamshed.com/media/catalog/product/cache/small_image/600x800/beff4985b56e3afdbeabfc89641a4582/1/1/11172_2_.jpg\" width=\"600\"/>,\n",
       " <img alt=\"JJFW-JPC-11247/S19-ZU-TXT\" class=\"photo image\" height=\"800\" src=\"https://www.junaidjamshed.com/media/catalog/product/cache/small_image/600x800/beff4985b56e3afdbeabfc89641a4582/j/j/jjfw-jpc-11247_2_.jpg\" width=\"600\"/>,\n",
       " <img alt=\"JJFW-JPC-11240/S19-SA-PLN\" class=\"photo image\" height=\"800\" src=\"https://www.junaidjamshed.com/media/catalog/product/cache/small_image/600x800/beff4985b56e3afdbeabfc89641a4582/1/1/11240_2_.jpg\" width=\"600\"/>,\n",
       " <img alt=\"Beard Oil Set (Exclusive)\" class=\"photo image\" height=\"800\" src=\"https://www.junaidjamshed.com/media/catalog/product/cache/small_image/600x800/beff4985b56e3afdbeabfc89641a4582/b/e/beard_oil-1_3_.jpg\" width=\"600\"/>,\n",
       " <img alt=\"Beard Oil Set (Janan)\" class=\"photo image\" height=\"800\" src=\"https://www.junaidjamshed.com/media/catalog/product/cache/small_image/600x800/beff4985b56e3afdbeabfc89641a4582/b/e/beard_oil-1_3__1.jpg\" width=\"600\"/>,\n",
       " <img alt=\"Beard Oil Set (Oriental)\" class=\"photo image\" height=\"800\" src=\"https://www.junaidjamshed.com/media/catalog/product/cache/small_image/600x800/beff4985b56e3afdbeabfc89641a4582/b/e/beard_oil-1_3__1_1.jpg\" width=\"600\"/>,\n",
       " <img alt=\"JJFW-JPC-102/S18/JJ5928\" class=\"photo image\" height=\"800\" src=\"https://www.junaidjamshed.com/media/catalog/product/cache/small_image/600x800/beff4985b56e3afdbeabfc89641a4582/j/p/jpc-102_1_.jpg\" width=\"600\"/>,\n",
       " <img alt=\"JJFW-JPC-11008-R1/S18-HTK-TXT\" class=\"photo image\" height=\"800\" src=\"https://www.junaidjamshed.com/media/catalog/product/cache/small_image/600x800/beff4985b56e3afdbeabfc89641a4582/j/p/jpc-11008-r1_2_.jpg\" width=\"600\"/>,\n",
       " <img alt=\"JJFW-JPC-11202/S18-HTK-TXT\" class=\"photo image\" height=\"800\" src=\"https://www.junaidjamshed.com/media/catalog/product/cache/small_image/600x800/beff4985b56e3afdbeabfc89641a4582/j/p/jpc-11202_1_.jpg\" width=\"600\"/>,\n",
       " <img alt=\"JJFW-JPC-11214/S19-AK-PLN\" class=\"photo image\" height=\"800\" src=\"https://www.junaidjamshed.com/media/catalog/product/cache/small_image/600x800/beff4985b56e3afdbeabfc89641a4582/j/p/jpc-11214_1_.jpg\" width=\"600\"/>]"
      ]
     },
     "execution_count": 44,
     "metadata": {},
     "output_type": "execute_result"
    }
   ],
   "source": [
    "response =  requests.get('https://www.junaidjamshed.com/mens.html')\n",
    "soup = BeautifulSoup(response.text,'html.parser')\n",
    "soup.find_all('img', {'class':'photo image'})"
   ]
  },
  {
   "cell_type": "code",
   "execution_count": 63,
   "metadata": {},
   "outputs": [
    {
     "data": {
      "text/plain": [
       "'Men Peshawari Chappal'"
      ]
     },
     "execution_count": 63,
     "metadata": {},
     "output_type": "execute_result"
    }
   ],
   "source": [
    "response =  requests.get('https://www.junaidjamshed.com/jjfw-jpc-11214-s19-ak-pln.html')\n",
    "soup = BeautifulSoup(response.text,'html.parser')\n",
    "soup.find('td',{\"data-th\":\"Product Category\"}).text"
   ]
  },
  {
   "cell_type": "code",
   "execution_count": null,
   "metadata": {},
   "outputs": [],
   "source": [
    "data={'product name':[]}\n",
    "for page in range(1,8):\n",
    "    response =  requests.get(f'https://www.junaidjamshed.com/mens.html?p={page}')\n",
    "    links=[]\n",
    "    soup = BeautifulSoup(response.text,'html.parser')\n",
    "    \n",
    "    data['product'].append(product.text.strip() for product in soup.find_all('a', {'class':'product-item-link'}))\n",
    "\n",
    "        #data['image url']=[img_url['src'] for img_url in soup.find_all('img',{'class':'photo image'})]\n",
    "    break\n",
    "    \n",
    "    "
   ]
  },
  {
   "cell_type": "code",
   "execution_count": null,
   "metadata": {},
   "outputs": [],
   "source": [
    "len(data['product name'])"
   ]
  },
  {
   "cell_type": "code",
   "execution_count": null,
   "metadata": {},
   "outputs": [],
   "source": [
    "for link in soup.find_all('img',{'class':'photo image'}):\n",
    "        links.append(link.get('href'))\n",
    "        product_title = link.find_all('a', {'class':'product-item-link'})"
   ]
  },
  {
   "cell_type": "code",
   "execution_count": 90,
   "metadata": {},
   "outputs": [
    {
     "data": {
      "text/plain": [
       "'https://www.junaidjamshed.com/media/catalog/product/cache/small_image/600x800/beff4985b56e3afdbeabfc89641a4582/1/4/1454_light_green.jpg'"
      ]
     },
     "execution_count": 90,
     "metadata": {},
     "output_type": "execute_result"
    }
   ],
   "source": [
    "response =  requests.get(f'https://www.junaidjamshed.com/mens.html')\n",
    "links=[]\n",
    "soup = BeautifulSoup(response.text,'html.parser')\n",
    "soup.find_all('img',{'class':'photo image'})[0]['src']"
   ]
  },
  {
   "cell_type": "code",
   "execution_count": null,
   "metadata": {},
   "outputs": [],
   "source": []
  }
 ],
 "metadata": {
  "kernelspec": {
   "display_name": "Python 3",
   "language": "python",
   "name": "python3"
  },
  "language_info": {
   "codemirror_mode": {
    "name": "ipython",
    "version": 3
   },
   "file_extension": ".py",
   "mimetype": "text/x-python",
   "name": "python",
   "nbconvert_exporter": "python",
   "pygments_lexer": "ipython3",
   "version": "3.7.2"
  }
 },
 "nbformat": 4,
 "nbformat_minor": 2
}
